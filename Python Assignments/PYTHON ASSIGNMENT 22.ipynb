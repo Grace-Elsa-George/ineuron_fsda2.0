{
 "cells": [
  {
   "cell_type": "markdown",
   "id": "a37d4f6b",
   "metadata": {},
   "source": [
    "Question1 -\n",
    "What is the result of the code, and explain?\n",
    "\n",
    "X = 'iNeuron'\n",
    "\n",
    "def func():\n",
    "\n",
    "print(X)\n",
    "\n",
    "func()\n",
    "\n",
    "Answer -\n",
    "The line, func() Call the function we defined which prints the value of X."
   ]
  },
  {
   "cell_type": "code",
   "execution_count": 1,
   "id": "daa6503e",
   "metadata": {},
   "outputs": [],
   "source": [
    "X = 'iNeuron'\n",
    "def func():\n",
    "    print (X)"
   ]
  },
  {
   "cell_type": "code",
   "execution_count": 2,
   "id": "08ce5cc1",
   "metadata": {},
   "outputs": [
    {
     "name": "stdout",
     "output_type": "stream",
     "text": [
      "iNeuron\n"
     ]
    }
   ],
   "source": [
    "func()"
   ]
  },
  {
   "cell_type": "markdown",
   "id": "20c03747",
   "metadata": {},
   "source": [
    "Question2 -\n",
    "What is the result of the code, and explain?\n",
    "\n",
    "X = 'iNeuron'\n",
    "\n",
    "def func():\n",
    "\n",
    "X = 'NI!'\n",
    "\n",
    "func()\n",
    "\n",
    "print(X)\n",
    "\n",
    "Answer -\n",
    "The line, func() Call the function we defined, with \"NI\" as the value of X inside the funtion, but doesn't prints it, as there is no print statement inside the function.\n",
    "\n",
    "The line, print(X), prints the value of X, which is \"iNeuron\", which is outside func()."
   ]
  },
  {
   "cell_type": "code",
   "execution_count": 3,
   "id": "5b40057f",
   "metadata": {},
   "outputs": [],
   "source": [
    "X = 'iNeuron'\n",
    "def func():\n",
    "    X = 'NI!'\n",
    "func()"
   ]
  },
  {
   "cell_type": "code",
   "execution_count": 4,
   "id": "999ab0da",
   "metadata": {},
   "outputs": [
    {
     "name": "stdout",
     "output_type": "stream",
     "text": [
      "iNeuron\n"
     ]
    }
   ],
   "source": [
    "print(X)"
   ]
  },
  {
   "cell_type": "markdown",
   "id": "815d36b9",
   "metadata": {},
   "source": [
    "Question3 -\n",
    "What does this code print, and why?\n",
    "\n",
    "X = 'iNeuron'\n",
    "\n",
    "def func():\n",
    "\n",
    "X = 'NI'\n",
    "\n",
    "print(X)\n",
    "\n",
    "func()\n",
    "\n",
    "print(X)\n",
    "\n",
    "Answer -\n",
    "The line, func() Call the function we defined which prints the value of X, which is \"NI\" inside the funtion.\n",
    "\n",
    "The line, print(X), prints the value of X, which is \"iNeuron\", which is outside func()."
   ]
  },
  {
   "cell_type": "code",
   "execution_count": 5,
   "id": "421f3361",
   "metadata": {},
   "outputs": [
    {
     "name": "stdout",
     "output_type": "stream",
     "text": [
      "NI!\n"
     ]
    }
   ],
   "source": [
    "X = 'iNeuron'\n",
    "def func():\n",
    "    X = 'NI!'\n",
    "    print (X)\n",
    "func()"
   ]
  },
  {
   "cell_type": "code",
   "execution_count": 6,
   "id": "0b1b8af9",
   "metadata": {},
   "outputs": [
    {
     "name": "stdout",
     "output_type": "stream",
     "text": [
      "iNeuron\n"
     ]
    }
   ],
   "source": [
    "print(X)"
   ]
  },
  {
   "cell_type": "markdown",
   "id": "a2baa420",
   "metadata": {},
   "source": [
    "Question -\n",
    "What output does this code produce? Why?\n",
    "\n",
    "X = 'iNeuron'\n",
    "\n",
    "def func():\n",
    "\n",
    "global X\n",
    "\n",
    "X = 'NI'\n",
    "\n",
    "func()\n",
    "\n",
    "print(X)\n",
    "\n",
    "Answer -\n",
    "The line, func() Call the function we defined, with \"NI\" as the value of X inside the funtion, but doesn't prints it, as there is no print statement inside the function, and we have used global keyword, which means, global keyword allows us to modify the variable, that is \"X\", outside of the current function.\n",
    "\n",
    "The line, print(X), prints the value of X, which is now \"NI\", as we used global keyword inside the function."
   ]
  },
  {
   "cell_type": "code",
   "execution_count": 7,
   "id": "042aa893",
   "metadata": {},
   "outputs": [],
   "source": [
    "X = 'iNeuron'\n",
    "def func():\n",
    "    global X\n",
    "    X = \"NI\"\n",
    "func()"
   ]
  },
  {
   "cell_type": "code",
   "execution_count": 8,
   "id": "e27fc32f",
   "metadata": {},
   "outputs": [
    {
     "name": "stdout",
     "output_type": "stream",
     "text": [
      "NI\n"
     ]
    }
   ],
   "source": [
    "print(X)"
   ]
  },
  {
   "cell_type": "markdown",
   "id": "1a4a7ae2",
   "metadata": {},
   "source": [
    "Question5 - What about this code—what’s the output, and why?\n",
    "X = 'iNeuron'\n",
    "\n",
    "def func():\n",
    "\n",
    "X = 'NI'\n",
    "\n",
    "def nested():\n",
    "\n",
    "print(X)\n",
    "\n",
    "nested()\n",
    "\n",
    "func()\n",
    "\n",
    "X\n",
    "\n",
    "Answer -"
   ]
  },
  {
   "cell_type": "markdown",
   "id": "d5f1db4b",
   "metadata": {},
   "source": [
    "the nested() function will print 'iNeuron', Then func() does not display anything,and x ='NI' is not accessible outside the function.\n",
    "Solution : 'iNeuron'"
   ]
  },
  {
   "cell_type": "code",
   "execution_count": 9,
   "id": "2914dfa0",
   "metadata": {},
   "outputs": [
    {
     "name": "stdout",
     "output_type": "stream",
     "text": [
      "iNeuron\n"
     ]
    }
   ],
   "source": [
    "X = 'iNeuron'\n",
    "def func():\n",
    "    X = \"NI\"\n",
    "def nested():\n",
    "    print(X)\n",
    "nested()"
   ]
  },
  {
   "cell_type": "code",
   "execution_count": 10,
   "id": "c566f97e",
   "metadata": {},
   "outputs": [],
   "source": [
    "func()"
   ]
  },
  {
   "cell_type": "code",
   "execution_count": 11,
   "id": "51a56fd4",
   "metadata": {},
   "outputs": [
    {
     "data": {
      "text/plain": [
       "'iNeuron'"
      ]
     },
     "execution_count": 11,
     "metadata": {},
     "output_type": "execute_result"
    }
   ],
   "source": [
    "X"
   ]
  },
  {
   "cell_type": "markdown",
   "id": "d242cf4b",
   "metadata": {},
   "source": [
    "Question 6-How about this code: what is its output in Python 3, and explain?\n",
    "def func():\n",
    "\n",
    "X = 'NI'\n",
    "\n",
    "def nested():\n",
    "\n",
    "nonlocal X\n",
    "\n",
    "X = 'Spam'\n",
    "\n",
    "nested()\n",
    "\n",
    "print(X)\n",
    "\n",
    "func()\n",
    "\n",
    "Answer -"
   ]
  },
  {
   "cell_type": "markdown",
   "id": "8ceec48b",
   "metadata": {},
   "source": [
    "Nonlocal variables are used in nested functions whose local scope is not defined. \n",
    "This means that the variable can be neither in the local nor the global scope. it print the updated value from nested function"
   ]
  },
  {
   "cell_type": "code",
   "execution_count": 16,
   "id": "30cade87",
   "metadata": {},
   "outputs": [
    {
     "name": "stdout",
     "output_type": "stream",
     "text": [
      "spam\n"
     ]
    }
   ],
   "source": [
    "def func():\n",
    "    X = 'NI'\n",
    "    def nested():\n",
    "        nonlocal X\n",
    "        X = 'spam'\n",
    "    nested()\n",
    "    print(X)\n",
    "\n",
    "func()\n"
   ]
  },
  {
   "cell_type": "code",
   "execution_count": null,
   "id": "3f1904ea",
   "metadata": {},
   "outputs": [],
   "source": []
  }
 ],
 "metadata": {
  "kernelspec": {
   "display_name": "Python 3 (ipykernel)",
   "language": "python",
   "name": "python3"
  },
  "language_info": {
   "codemirror_mode": {
    "name": "ipython",
    "version": 3
   },
   "file_extension": ".py",
   "mimetype": "text/x-python",
   "name": "python",
   "nbconvert_exporter": "python",
   "pygments_lexer": "ipython3",
   "version": "3.10.9"
  }
 },
 "nbformat": 4,
 "nbformat_minor": 5
}
