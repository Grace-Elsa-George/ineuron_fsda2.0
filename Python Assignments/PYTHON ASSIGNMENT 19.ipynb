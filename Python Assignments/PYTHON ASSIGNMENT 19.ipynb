{
 "cells": [
  {
   "cell_type": "markdown",
   "id": "99b11afa",
   "metadata": {},
   "source": [
    "Question1 -\n",
    "Make a class called Thing with no contents and print it. Then, create an object called example from this class and also print it. Are the printed values the same or different?\n",
    "\n",
    "Answer -"
   ]
  },
  {
   "cell_type": "code",
   "execution_count": 1,
   "id": "fcf2e2dd",
   "metadata": {},
   "outputs": [
    {
     "name": "stdout",
     "output_type": "stream",
     "text": [
      "<class '__main__.Thing'>\n"
     ]
    }
   ],
   "source": [
    "class Thing:\n",
    "    pass\n",
    "print(Thing)"
   ]
  },
  {
   "cell_type": "code",
   "execution_count": 2,
   "id": "864fef86",
   "metadata": {},
   "outputs": [
    {
     "name": "stdout",
     "output_type": "stream",
     "text": [
      "<__main__.Thing object at 0x00000173ECBB94E0>\n"
     ]
    }
   ],
   "source": [
    "example = Thing()\n",
    "print(example)"
   ]
  },
  {
   "cell_type": "markdown",
   "id": "44c75161",
   "metadata": {},
   "source": [
    "Question2 -\n",
    "Create a new class called Thing2 and add the value 'abc' to the letters class attribute. Letters should be printed.\n",
    "\n",
    "Answer -"
   ]
  },
  {
   "cell_type": "code",
   "execution_count": 3,
   "id": "39409709",
   "metadata": {},
   "outputs": [
    {
     "name": "stdout",
     "output_type": "stream",
     "text": [
      "abc\n"
     ]
    }
   ],
   "source": [
    "class Thing2:\n",
    "    letters = 'abc'\n",
    "print(Thing2.letters)"
   ]
  },
  {
   "cell_type": "markdown",
   "id": "dac357ad",
   "metadata": {},
   "source": [
    "Question3 -\n",
    "Make yet another class called, of course, Thing3. This time, assign the value 'xyz' to an instance (object) attribute called letters. Print letters. Do you need to make an object from the class to do this?\n",
    "\n",
    "Answer -"
   ]
  },
  {
   "cell_type": "code",
   "execution_count": 5,
   "id": "99b27795",
   "metadata": {},
   "outputs": [],
   "source": [
    "class Thing3:\n",
    "    def __init__(self):\n",
    "        self.letters = 'xyz'"
   ]
  },
  {
   "cell_type": "code",
   "execution_count": 6,
   "id": "b2134b06",
   "metadata": {},
   "outputs": [
    {
     "ename": "AttributeError",
     "evalue": "type object 'Thing3' has no attribute 'letters'",
     "output_type": "error",
     "traceback": [
      "\u001b[1;31m---------------------------------------------------------------------------\u001b[0m",
      "\u001b[1;31mAttributeError\u001b[0m                            Traceback (most recent call last)",
      "Cell \u001b[1;32mIn[6], line 1\u001b[0m\n\u001b[1;32m----> 1\u001b[0m \u001b[38;5;28mprint\u001b[39m(\u001b[43mThing3\u001b[49m\u001b[38;5;241;43m.\u001b[39;49m\u001b[43mletters\u001b[49m)\n",
      "\u001b[1;31mAttributeError\u001b[0m: type object 'Thing3' has no attribute 'letters'"
     ]
    }
   ],
   "source": [
    "print(Thing3.letters)"
   ]
  },
  {
   "cell_type": "markdown",
   "id": "c6a54446",
   "metadata": {},
   "source": [
    "The variable letters belongs to any objects made from Thing3, not the Thing3 class itself:"
   ]
  },
  {
   "cell_type": "code",
   "execution_count": 7,
   "id": "fe363a6c",
   "metadata": {},
   "outputs": [
    {
     "name": "stdout",
     "output_type": "stream",
     "text": [
      "xyz\n"
     ]
    }
   ],
   "source": [
    "something = Thing3()\n",
    "print(something.letters)"
   ]
  },
  {
   "cell_type": "markdown",
   "id": "5ff7818b",
   "metadata": {},
   "source": [
    "Question4 -\n",
    "Create an Element class with the instance attributes name, symbol, and number. Create a class object with the values 'Hydrogen,' 'H,' and 1.\n",
    "\n",
    "Answer -"
   ]
  },
  {
   "cell_type": "code",
   "execution_count": 8,
   "id": "70c57671",
   "metadata": {},
   "outputs": [],
   "source": [
    "class Element:\n",
    "    def __init__(self, name, symbol, number):\n",
    "        self.name = name\n",
    "        self.symbol = symbol\n",
    "        self.number = number\n",
    "hydrogen = Element('Hydrogen', 'H', 1)"
   ]
  },
  {
   "cell_type": "markdown",
   "id": "3eb6d849",
   "metadata": {},
   "source": [
    "Question5 -\n",
    "Make a dictionary with these keys and values: 'name': 'Hydrogen', 'symbol': 'H', 'number': 1. Then, create an object called hydrogen from class Element using this dictionary.\n",
    "\n",
    "Answer -"
   ]
  },
  {
   "cell_type": "code",
   "execution_count": 9,
   "id": "217cfbad",
   "metadata": {},
   "outputs": [
    {
     "data": {
      "text/plain": [
       "'Hydrogen'"
      ]
     },
     "execution_count": 9,
     "metadata": {},
     "output_type": "execute_result"
    }
   ],
   "source": [
    "#Starting with the dictionary:\n",
    "el_dict = {'name': 'Hydrogen', 'symbol': 'H', 'number': 1}\n",
    "\n",
    "#Creating object called hydrogen from class Element using el_dict\n",
    "hydrogen = Element(el_dict['name'], el_dict['symbol'], el_dict['number'])\n",
    "\n",
    "hydrogen.name"
   ]
  },
  {
   "cell_type": "markdown",
   "id": "5eb82f4c",
   "metadata": {},
   "source": [
    "Question6 -\n",
    "For the Element class, define a method called dump() that prints the values of the object’s attributes (name, symbol, and number). Create the hydrogen object from this new definition and use dump() to print its attributes.\n",
    "\n",
    "Answer -"
   ]
  },
  {
   "cell_type": "code",
   "execution_count": 10,
   "id": "e07c293e",
   "metadata": {},
   "outputs": [
    {
     "name": "stdout",
     "output_type": "stream",
     "text": [
      "name=Hydrogen, symbol=H, number=1\n"
     ]
    }
   ],
   "source": [
    "class Element:\n",
    "    def __init__(self, name, symbol, number):\n",
    "        self.name = name\n",
    "        self.symbol = symbol\n",
    "        self.number = number\n",
    "    def dump(self):\n",
    "        print('name=%s, symbol=%s, number=%s' %(self.name, self.symbol, self.number))\n",
    "hydrogen = Element(**el_dict)\n",
    "hydrogen.dump()"
   ]
  },
  {
   "cell_type": "markdown",
   "id": "62534d3b",
   "metadata": {},
   "source": [
    "Question7 -\n",
    "Call print(hydrogen). In the definition of Element, change the name of method dump to str, create a new hydrogen object, and call print(hydrogen) again.\n",
    "\n",
    "Answer -"
   ]
  },
  {
   "cell_type": "code",
   "execution_count": 11,
   "id": "d7028633",
   "metadata": {},
   "outputs": [
    {
     "name": "stdout",
     "output_type": "stream",
     "text": [
      "<__main__.Element object at 0x00000173ECC77430>\n"
     ]
    }
   ],
   "source": [
    "print(hydrogen)"
   ]
  },
  {
   "cell_type": "code",
   "execution_count": 12,
   "id": "07b0348f",
   "metadata": {},
   "outputs": [
    {
     "name": "stdout",
     "output_type": "stream",
     "text": [
      "name=Hydrogen, symbol=H, number=1\n"
     ]
    }
   ],
   "source": [
    "class Element:\n",
    "    def __init__(self, name, symbol, number):\n",
    "        self.name = name\n",
    "        self.symbol = symbol\n",
    "        self.number = number\n",
    "    def __str__(self):\n",
    "        return ('name=%s, symbol=%s, number=%s' %(self.name, self.symbol, self.number))\n",
    "\n",
    "hydrogen = Element(**el_dict)\n",
    "print(hydrogen)"
   ]
  },
  {
   "cell_type": "markdown",
   "id": "f0190f31",
   "metadata": {},
   "source": [
    "Question8 -\n",
    "Modify Element to make the attributes name, symbol, and number private. Define a getter property for each to return its value.\n",
    "\n",
    "Answer -"
   ]
  },
  {
   "cell_type": "code",
   "execution_count": 13,
   "id": "93b6e997",
   "metadata": {},
   "outputs": [],
   "source": [
    "class Element:\n",
    "    def __init__(self, name, symbol, number):\n",
    "        self.__name = name\n",
    "        self.__symbol = symbol\n",
    "        self.__number = number\n",
    "    @property    \n",
    "    def name(self):\n",
    "        return self.__name\n",
    "    @property\n",
    "    def symbol(self):\n",
    "        return self.__symbol\n",
    "    @property\n",
    "    def number(self):\n",
    "        return self.__number\n",
    "hydrogen = Element('Hydrogen', 'H', 1)"
   ]
  },
  {
   "cell_type": "code",
   "execution_count": 14,
   "id": "69ed8d74",
   "metadata": {},
   "outputs": [
    {
     "data": {
      "text/plain": [
       "'Hydrogen'"
      ]
     },
     "execution_count": 14,
     "metadata": {},
     "output_type": "execute_result"
    }
   ],
   "source": [
    "hydrogen.name"
   ]
  },
  {
   "cell_type": "code",
   "execution_count": 15,
   "id": "bee409fa",
   "metadata": {},
   "outputs": [
    {
     "data": {
      "text/plain": [
       "'H'"
      ]
     },
     "execution_count": 15,
     "metadata": {},
     "output_type": "execute_result"
    }
   ],
   "source": [
    "hydrogen.symbol"
   ]
  },
  {
   "cell_type": "code",
   "execution_count": 16,
   "id": "54b45d10",
   "metadata": {},
   "outputs": [
    {
     "data": {
      "text/plain": [
       "1"
      ]
     },
     "execution_count": 16,
     "metadata": {},
     "output_type": "execute_result"
    }
   ],
   "source": [
    "hydrogen.number"
   ]
  },
  {
   "cell_type": "markdown",
   "id": "9006c9ca",
   "metadata": {},
   "source": [
    "Question9 -\n",
    "Define three classes: Bear, Rabbit, and Octothorpe. For each, define only one method: eats(). This should return 'berries' (Bear), 'clover' (Rabbit), or 'campers' (Octothorpe). Create one object from each and print what it eats.\n",
    "\n",
    "Answer -"
   ]
  },
  {
   "cell_type": "code",
   "execution_count": 17,
   "id": "3041c4cf",
   "metadata": {},
   "outputs": [],
   "source": [
    "class Bear:\n",
    "    def eats(self):\n",
    "        return 'berries'\n",
    "    \n",
    "class Rabbit:\n",
    "    def eats(self):\n",
    "        return 'clover'\n",
    "\n",
    "class Octothorpe:\n",
    "    def eats(self):\n",
    "        return 'campers'\n",
    "    \n",
    "b = Bear()\n",
    "r = Rabbit()\n",
    "o = Octothorpe()"
   ]
  },
  {
   "cell_type": "code",
   "execution_count": 18,
   "id": "c3bc7240",
   "metadata": {},
   "outputs": [
    {
     "name": "stdout",
     "output_type": "stream",
     "text": [
      "berries\n"
     ]
    }
   ],
   "source": [
    "print(b.eats())"
   ]
  },
  {
   "cell_type": "code",
   "execution_count": 19,
   "id": "77adfc24",
   "metadata": {},
   "outputs": [
    {
     "name": "stdout",
     "output_type": "stream",
     "text": [
      "clover\n"
     ]
    }
   ],
   "source": [
    "print(r.eats())"
   ]
  },
  {
   "cell_type": "code",
   "execution_count": 20,
   "id": "874ea993",
   "metadata": {},
   "outputs": [
    {
     "name": "stdout",
     "output_type": "stream",
     "text": [
      "campers\n"
     ]
    }
   ],
   "source": [
    "print(o.eats())"
   ]
  },
  {
   "cell_type": "markdown",
   "id": "10ba7272",
   "metadata": {},
   "source": [
    "Question10 -\n",
    "Define these classes: Laser, Claw, and SmartPhone. Each has only one method: does(). This returns 'disintegrate' (Laser), 'crush' (Claw), or 'ring' (SmartPhone). Then, define the class Robot that has one instance (object) of each of these. Define a does() method for the Robot that prints what its component objects do.\n",
    "\n",
    "Answer -"
   ]
  },
  {
   "cell_type": "code",
   "execution_count": 25,
   "id": "7ddd0cad",
   "metadata": {},
   "outputs": [],
   "source": [
    "class Laser:\n",
    "    def does(self):\n",
    "        return 'disintegrate'\n",
    "\n",
    "class Claw:\n",
    "    def does(self):\n",
    "        return 'crush'\n",
    "    \n",
    "class SmartPhone:\n",
    "    def does(self):\n",
    "        return 'ring'\n",
    "    \n",
    "class Robot:\n",
    "    def __init__(self):\n",
    "        self.laser = Laser()\n",
    "        self.claw = Claw()\n",
    "        self.smartphone = SmartPhone()\n",
    "        \n",
    "    def does(self):\n",
    "        return '''my components are:\n",
    "        Laser, to %s.\n",
    "        Claw, to %s.\n",
    "        Smartphone, to %s.''' % (self.laser.does(),self.claw.does(),self.smartphone.does() )"
   ]
  },
  {
   "cell_type": "code",
   "execution_count": 26,
   "id": "4c3a5d87",
   "metadata": {},
   "outputs": [],
   "source": [
    "robbie = Robot()"
   ]
  },
  {
   "cell_type": "code",
   "execution_count": 27,
   "id": "00c83728",
   "metadata": {},
   "outputs": [
    {
     "name": "stdout",
     "output_type": "stream",
     "text": [
      "my components are:\n",
      "        Laser, to disintegrate.\n",
      "        Claw, to crush.\n",
      "        Smartphone, to ring.\n"
     ]
    }
   ],
   "source": [
    "print( robbie.does())"
   ]
  },
  {
   "cell_type": "code",
   "execution_count": null,
   "id": "758d75c6",
   "metadata": {},
   "outputs": [],
   "source": []
  }
 ],
 "metadata": {
  "kernelspec": {
   "display_name": "Python 3 (ipykernel)",
   "language": "python",
   "name": "python3"
  },
  "language_info": {
   "codemirror_mode": {
    "name": "ipython",
    "version": 3
   },
   "file_extension": ".py",
   "mimetype": "text/x-python",
   "name": "python",
   "nbconvert_exporter": "python",
   "pygments_lexer": "ipython3",
   "version": "3.10.9"
  }
 },
 "nbformat": 4,
 "nbformat_minor": 5
}
