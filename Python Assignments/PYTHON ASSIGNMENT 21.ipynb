{
 "cells": [
  {
   "cell_type": "markdown",
   "id": "3d1499f1",
   "metadata": {},
   "source": [
    "Question -\n",
    "Add the current date to the text file today.txt as a string.\n",
    "\n",
    "Answer -"
   ]
  },
  {
   "cell_type": "code",
   "execution_count": 1,
   "id": "d868cba5",
   "metadata": {},
   "outputs": [],
   "source": [
    "from datetime import date\n",
    "now = date.today()\n",
    "now_str = now.isoformat()\n",
    "with open('today.txt', 'wt') as output:\n",
    "    print(now_str, file=output)"
   ]
  },
  {
   "cell_type": "markdown",
   "id": "623de494",
   "metadata": {},
   "source": [
    "Question2 -\n",
    "Read the text file today.txt into the string today_string\n",
    "\n",
    "Answer -"
   ]
  },
  {
   "cell_type": "code",
   "execution_count": 2,
   "id": "b098f08d",
   "metadata": {},
   "outputs": [
    {
     "data": {
      "text/plain": [
       "'2023-10-17\\n'"
      ]
     },
     "execution_count": 2,
     "metadata": {},
     "output_type": "execute_result"
    }
   ],
   "source": [
    "with open('today.txt', 'rt') as input:\n",
    "    today_string = input.read()\n",
    "    \n",
    "today_string"
   ]
  },
  {
   "cell_type": "markdown",
   "id": "14ffefbe",
   "metadata": {},
   "source": [
    "Question3 -\n",
    "Parse the date from today_string.\n",
    "\n",
    "Answer "
   ]
  },
  {
   "cell_type": "code",
   "execution_count": 3,
   "id": "2b823833",
   "metadata": {},
   "outputs": [
    {
     "data": {
      "text/plain": [
       "datetime.datetime(2023, 10, 17, 0, 0)"
      ]
     },
     "execution_count": 3,
     "metadata": {},
     "output_type": "execute_result"
    }
   ],
   "source": [
    "from datetime import datetime\n",
    "fmt = '%Y-%m-%d\\n'\n",
    "datetime.strptime(today_string, fmt)"
   ]
  },
  {
   "cell_type": "markdown",
   "id": "aa4fd706",
   "metadata": {},
   "source": [
    "Question4 -\n",
    "List the files in your current directory\n",
    "\n",
    "Answer -"
   ]
  },
  {
   "cell_type": "code",
   "execution_count": 4,
   "id": "55a2ff36",
   "metadata": {},
   "outputs": [
    {
     "data": {
      "text/plain": [
       "['.ipynb_checkpoints', 'Assignment_21.docx', 'today.txt', 'Untitled.ipynb']"
      ]
     },
     "execution_count": 4,
     "metadata": {},
     "output_type": "execute_result"
    }
   ],
   "source": [
    "import os\n",
    "os.listdir('.')"
   ]
  },
  {
   "cell_type": "markdown",
   "id": "29a84290",
   "metadata": {},
   "source": [
    "Question5 -\n",
    "Create a list of all of the files in your parent directory (minimum five files should be available).\n",
    "\n",
    "Answer -"
   ]
  },
  {
   "cell_type": "code",
   "execution_count": 5,
   "id": "4f6e8c14",
   "metadata": {},
   "outputs": [
    {
     "data": {
      "text/plain": [
       "['Python ass1',\n",
       " 'Python ass10',\n",
       " 'Python ass11',\n",
       " 'Python ass12',\n",
       " 'Python ass13',\n",
       " 'Python ass14',\n",
       " 'Python ass15',\n",
       " 'Python ass16',\n",
       " 'Python ass17',\n",
       " 'Python ass18',\n",
       " 'Python ass19',\n",
       " 'Python ass2',\n",
       " 'Python ass20',\n",
       " 'Python ass21',\n",
       " 'Python ass22',\n",
       " 'Python ass23',\n",
       " 'Python ass24',\n",
       " 'Python ass25',\n",
       " 'Python ass3',\n",
       " 'Python ass4',\n",
       " 'Python ass5',\n",
       " 'Python ass6',\n",
       " 'Python ass7',\n",
       " 'Python ass8',\n",
       " 'Python ass9']"
      ]
     },
     "execution_count": 5,
     "metadata": {},
     "output_type": "execute_result"
    }
   ],
   "source": [
    "os.listdir('..')"
   ]
  },
  {
   "cell_type": "markdown",
   "id": "dbd937a6",
   "metadata": {},
   "source": [
    "Question7 -\n",
    "Create a date object of your day of birth.\n",
    "\n",
    "Answer -"
   ]
  },
  {
   "cell_type": "code",
   "execution_count": 21,
   "id": "7a12f86a",
   "metadata": {},
   "outputs": [
    {
     "data": {
      "text/plain": [
       "datetime.date(1992, 12, 3)"
      ]
     },
     "execution_count": 21,
     "metadata": {},
     "output_type": "execute_result"
    }
   ],
   "source": [
    "my_day = date(1992, 12, 3)\n",
    "my_day"
   ]
  },
  {
   "cell_type": "markdown",
   "id": "03a7b039",
   "metadata": {},
   "source": [
    "Question8 -\n",
    "What day of the week was your day of birth?\n",
    "\n",
    "Answer -\n",
    "With weekday(), Monday is 0 and Sunday is 6. With isoweekday(), Monday is 1 and\n",
    "\n",
    "Sunday is 7. Therefore, my day of birth is Thursday."
   ]
  },
  {
   "cell_type": "code",
   "execution_count": 22,
   "id": "c3664510",
   "metadata": {},
   "outputs": [
    {
     "data": {
      "text/plain": [
       "3"
      ]
     },
     "execution_count": 22,
     "metadata": {},
     "output_type": "execute_result"
    }
   ],
   "source": [
    "my_day.weekday()"
   ]
  },
  {
   "cell_type": "code",
   "execution_count": 23,
   "id": "4524352d",
   "metadata": {},
   "outputs": [
    {
     "data": {
      "text/plain": [
       "4"
      ]
     },
     "execution_count": 23,
     "metadata": {},
     "output_type": "execute_result"
    }
   ],
   "source": [
    "my_day.isoweekday()"
   ]
  },
  {
   "cell_type": "markdown",
   "id": "126788ff",
   "metadata": {},
   "source": [
    "Question9 -\n",
    "When will you be (or when were you) 10,000 days old?\n",
    "\n",
    "Answer -"
   ]
  },
  {
   "cell_type": "code",
   "execution_count": 24,
   "id": "1b6d16ef",
   "metadata": {},
   "outputs": [
    {
     "data": {
      "text/plain": [
       "datetime.date(2020, 4, 20)"
      ]
     },
     "execution_count": 24,
     "metadata": {},
     "output_type": "execute_result"
    }
   ],
   "source": [
    "from datetime import timedelta\n",
    "ten_thousand = my_day + timedelta(days=10000)\n",
    "ten_thousand"
   ]
  },
  {
   "cell_type": "code",
   "execution_count": null,
   "id": "ed14811f",
   "metadata": {},
   "outputs": [],
   "source": []
  }
 ],
 "metadata": {
  "kernelspec": {
   "display_name": "Python 3 (ipykernel)",
   "language": "python",
   "name": "python3"
  },
  "language_info": {
   "codemirror_mode": {
    "name": "ipython",
    "version": 3
   },
   "file_extension": ".py",
   "mimetype": "text/x-python",
   "name": "python",
   "nbconvert_exporter": "python",
   "pygments_lexer": "ipython3",
   "version": "3.10.9"
  }
 },
 "nbformat": 4,
 "nbformat_minor": 5
}
